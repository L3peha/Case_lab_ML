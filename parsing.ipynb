{
 "cells": [
  {
   "cell_type": "code",
   "execution_count": 1,
   "metadata": {},
   "outputs": [],
   "source": [
    "import os\n",
    "import pandas as pd\n",
    "\n",
    "def parse(directory, csv_name):\n",
    "    # Пустой список для хранения данных\n",
    "    data = []\n",
    "\n",
    "    # Проход по каждому файлу в директории\n",
    "    for filename in os.listdir(directory):\n",
    "        if filename.endswith(\".txt\"):\n",
    "            filepath = os.path.join(directory, filename)\n",
    "            with open(filepath, 'r', encoding='utf-8') as file:\n",
    "                lines = file.readlines()\n",
    "                review_text = lines[0].strip()  # Первый элемент, текст отзыва\n",
    "                #review_score = int(lines[1].strip())  # Второй элемент, оценка\n",
    "                review_score = 0\n",
    "                for c in reversed(filename):\n",
    "                    if c != 't':\n",
    "                        if c != 'x':\n",
    "                            if c!= '.':\n",
    "                                review_score = c\n",
    "                                break\n",
    "                data.append([review_text, review_score])\n",
    "\n",
    "    # Создание DataFrame\n",
    "    df = pd.DataFrame(data, columns=['text', 'label'])\n",
    "\n",
    "    # Сохранение в CSV файл\n",
    "    df.to_csv(f'{csv_name}.csv', index=False, encoding='utf-8')\n",
    "\n",
    "    print(\"CSV файл создан успешно!\")\n",
    "    # text,label"
   ]
  },
  {
   "cell_type": "code",
   "execution_count": 2,
   "metadata": {},
   "outputs": [
    {
     "name": "stdout",
     "output_type": "stream",
     "text": [
      "CSV файл создан успешно!\n"
     ]
    }
   ],
   "source": [
    "parse('dataset/test/neg/', 'review_test_neg')"
   ]
  },
  {
   "cell_type": "code",
   "execution_count": 3,
   "metadata": {},
   "outputs": [
    {
     "name": "stdout",
     "output_type": "stream",
     "text": [
      "CSV файл создан успешно!\n"
     ]
    }
   ],
   "source": [
    "parse('dataset/test/pos/', 'review_test_pos')"
   ]
  },
  {
   "cell_type": "code",
   "execution_count": 4,
   "metadata": {},
   "outputs": [
    {
     "name": "stdout",
     "output_type": "stream",
     "text": [
      "CSV файл создан успешно!\n"
     ]
    }
   ],
   "source": [
    "parse('dataset/train/pos/', 'review_train_pos')"
   ]
  },
  {
   "cell_type": "code",
   "execution_count": 5,
   "metadata": {},
   "outputs": [
    {
     "name": "stdout",
     "output_type": "stream",
     "text": [
      "CSV файл создан успешно!\n"
     ]
    }
   ],
   "source": [
    "parse('dataset/train/neg/', 'review_train_neg')"
   ]
  },
  {
   "cell_type": "markdown",
   "metadata": {},
   "source": [
    "# shuffle"
   ]
  },
  {
   "cell_type": "code",
   "execution_count": 6,
   "metadata": {},
   "outputs": [],
   "source": [
    "import csv\n",
    "from random import shuffle"
   ]
  },
  {
   "cell_type": "code",
   "execution_count": 7,
   "metadata": {},
   "outputs": [],
   "source": [
    "allData = []\n",
    "\n",
    "with open('review_test_neg.csv', 'r') as f:\n",
    "    reader = csv.reader(f)\n",
    "    next(reader)\n",
    "    for row in reader:\n",
    "        allData += [row]\n",
    "    \n",
    "with open('review_test_pos.csv', 'r') as f:\n",
    "    reader = csv.reader(f)\n",
    "    next(reader)\n",
    "    for row in reader:\n",
    "        allData += [row]\n",
    "\n",
    "with open('out_test.csv', 'w', newline='') as f:\n",
    "    writer = csv.writer(f)\n",
    "    writer.writerows(allData)"
   ]
  },
  {
   "cell_type": "code",
   "execution_count": 8,
   "metadata": {},
   "outputs": [],
   "source": [
    "allData = []\n",
    "\n",
    "with open('review_train_neg.csv', 'r') as f:\n",
    "    reader = csv.reader(f)\n",
    "    next(reader)\n",
    "    for row in reader:\n",
    "        allData += [row]\n",
    "    \n",
    "with open('review_train_pos.csv', 'r') as f:\n",
    "    reader = csv.reader(f)\n",
    "    next(reader)\n",
    "    for row in reader:\n",
    "        allData += [row]\n",
    "\n",
    "with open('out_train.csv', 'w', newline='') as f:\n",
    "    writer = csv.writer(f)\n",
    "    writer.writerows(allData)"
   ]
  }
 ],
 "metadata": {
  "kernelspec": {
   "display_name": "base",
   "language": "python",
   "name": "python3"
  },
  "language_info": {
   "codemirror_mode": {
    "name": "ipython",
    "version": 3
   },
   "file_extension": ".py",
   "mimetype": "text/x-python",
   "name": "python",
   "nbconvert_exporter": "python",
   "pygments_lexer": "ipython3",
   "version": "3.11.7"
  }
 },
 "nbformat": 4,
 "nbformat_minor": 2
}
